{
 "cells": [
  {
   "cell_type": "code",
   "execution_count": 38,
   "metadata": {},
   "outputs": [],
   "source": [
    "from sentence_transformers import SentenceTransformer\n",
    "import chromadb\n",
    "import seaborn as sns\n",
    "import matplotlib.pyplot as plt"
   ]
  },
  {
   "cell_type": "code",
   "execution_count": 39,
   "metadata": {},
   "outputs": [],
   "source": [
    "model = SentenceTransformer('sentence-transformers/paraphrase-multilingual-MiniLM-L12-v2')"
   ]
  },
  {
   "cell_type": "code",
   "execution_count": 40,
   "metadata": {},
   "outputs": [],
   "source": [
    "document_source = [\"Qu’est-ce que le HTML ? Le HTML (HyperText Markup Language) est le langage standard utilisé pour structurer le contenu des pages web.\", \"À quoi sert le CSS ? Le CSS (Cascading Style Sheets) est utilisé pour styliser et mettre en forme les pages web, comme les couleurs, les polices, et les mises en page.\", \"Qu’est-ce qu’un serveur web ? Un serveur web est un logiciel ou un matériel qui stocke, traite et délivre les pages web aux utilisateurs via un navigateur.\", \"Quelle est la différence entre une balise <div> et une balise <span> ? <div> est un conteneur en bloc utilisé pour structurer le contenu, tandis que <span> est un conteneur en ligne utilisé pour styliser du texte ou des éléments spécifiques.\", \"Qu’est-ce que JavaScript ? JavaScript est un langage de programmation qui permet d’ajouter des fonctionnalités dynamiques et interactives aux pages web.\", \" Qu’est-ce que le DOM en JavaScript ? Le DOM (Document Object Model) est une représentation en arbre des éléments HTML, permettant de manipuler et modifier la structure d’une page via JavaScript.\", \" Qu’est-ce qu’un framework CSS ?  Un framework CSS, comme Bootstrap ou Tailwind, est un ensemble de styles prédéfinis qui facilite la création de mises en page cohérentes et réactives.\", \" Quelle est la différence entre une classe et un identifiant en CSS ? Une classe (préfixée par .) peut être utilisée sur plusieurs éléments, tandis qu’un identifiant (préfixé par #) est unique pour un élément spécifique.\" , \" Qu’est-ce qu’une API ? Une API (Application Programming Interface) est un ensemble de règles qui permet à différentes applications de communiquer entre elles.\",  \"Qu’est-ce que le responsive design ?  Le responsive design est une approche de conception web visant à rendre les pages web adaptatives à toutes les tailles d’écran et types d’appareils.\", \"Quelle est la différence entre une requête GET et POST ? GET est utilisé pour récupérer des données, tandis que POST est utilisé pour envoyer des données à un serveur.\", \" Qu’est-ce qu’un cookie ?  Un cookie est un petit fichier de données stocké sur le navigateur de l’utilisateur pour conserver des informations comme les préférences ou les sessions.\", \"Qu’est-ce qu’un CMS ? Un CMS (Content Management System) est un logiciel comme WordPress qui permet de créer et gérer facilement des sites web sans coder.\", \"Qu’est-ce qu’un hébergement web ? , L’hébergement web est un service qui fournit un espace pour stocker un site web et le rendre accessible sur Internet.\", \" Qu’est-ce que le SEO ? Le SEO (Search Engine Optimization) est l’ensemble des techniques pour améliorer le positionnement d’un site dans les moteurs de recherche.\", \"À quoi sert le balisage <meta> en HTML ? Les balises <meta> fournissent des informations sur la page (métadonnées), comme la description, les mots-clés ou le charset.\", \"Qu’est-ce qu’un framework JavaScript ? Un framework JavaScript, comme React, Vue ou Angular, facilite le développement d’applications web dynamiques en structurant le code.\", \"Qu’est-ce qu’un fichier package.json ? C’est un fichier utilisé dans les projets Node.js pour gérer les dépendances, scripts et métadonnées du projet.\", \"Quelle est la différence entre le front-end et le back-end ? Le front-end concerne la partie visible et interactive du site (HTML, CSS, JS), tandis que le back-end gère le serveur, la base de données et la logique métier.\", \"Qu’est-ce qu’un CDN ? Un CDN (Content Delivery Network) est un réseau de serveurs répartis géographiquement pour accélérer la distribution de contenu web.\"]\n",
    "\n",
    "document_different = [\"Qu’est-ce qu’une base de données ? Une base de données est un système organisé pour stocker, gérer et récupérer des informations, souvent utilisées dans le développement web pour sauvegarder des utilisateurs ou des contenus.\", \" Qu’est-ce que Node.js ? Node.js est un environnement d’exécution JavaScript côté serveur qui permet de construire des applications rapides et évolutives.\", \" À quoi servent les frameworks comme React ou Angular ? Ces frameworks facilitent le développement d’interfaces utilisateur interactives et dynamiques en offrant des outils pour structurer le code et gérer l’état.\", \" Qu’est-ce qu’un fichier .env dans un projet web ? Un fichier .env est utilisé pour stocker des variables d’environnement comme des clés API ou des paramètres de configuration, évitant leur inclusion dans le code source.\", \" Qu’est-ce que le versionnement de code ? Le versionnement de code est une pratique qui permet de suivre les modifications apportées au code source grâce à des outils comme Git, facilitant la collaboration et la gestion des versions.\"]\n",
    "\n",
    "document_similaire = [\"À quoi sert le HTML dans une page web ? Le HTML est utilisé pour structurer et organiser le contenu d’une page web, en définissant les titres, paragraphes, images, etc.\", \"Quel est le rôle du CSS dans le développement web ? Le CSS est essentiel pour donner une apparence visuelle aux pages web, comme les couleurs, les polices, et les dispositions des éléments.\", \"Quelle est la différence entre une balise <div> et une balise <span> ? Une balise <div> sert à regrouper des éléments sur plusieurs lignes (conteneur en bloc), alors qu’une balise <span> est utilisée pour styliser une portion de texte dans une même ligne.\", \"Que signifie le DOM pour un développeur web ?  Le DOM est une structure arborescente qui permet de représenter et manipuler les éléments HTML d’une page via des scripts comme JavaScript.\", \"Quelle est la différence principale entre GET et POST dans les requêtes HTTP ? GET récupère des données du serveur, souvent visibles dans l’URL, tandis que POST envoie des données, généralement dans le corps de la requête.\"]"
   ]
  },
  {
   "cell_type": "code",
   "execution_count": 41,
   "metadata": {},
   "outputs": [],
   "source": [
    "embeddings_source = model.encode(document_source)"
   ]
  },
  {
   "cell_type": "code",
   "execution_count": 42,
   "metadata": {},
   "outputs": [],
   "source": [
    "# persist_directory = './tmp/vector_db'\n",
    "# client = chromadb.PersistentClient(path=persist_directory)\n",
    "client = chromadb.Client()"
   ]
  },
  {
   "cell_type": "code",
   "execution_count": 43,
   "metadata": {},
   "outputs": [
    {
     "name": "stdout",
     "output_type": "stream",
     "text": [
      "Collection my_collection already exists\n"
     ]
    }
   ],
   "source": [
    "try :\n",
    "    collection = client.create_collection(name=\"my_collection\")\n",
    "except Exception as e:\n",
    "    print(e)"
   ]
  },
  {
   "cell_type": "code",
   "execution_count": 44,
   "metadata": {},
   "outputs": [
    {
     "name": "stdout",
     "output_type": "stream",
     "text": [
      "An error occurred: Collection p does not exist.\n"
     ]
    }
   ],
   "source": [
    "try:\n",
    "  client.get_collection(\"p\")\n",
    "except Exception as e:\n",
    "  print(f\"An error occurred: {e}\")"
   ]
  },
  {
   "cell_type": "code",
   "execution_count": 45,
   "metadata": {},
   "outputs": [],
   "source": [
    "try :\n",
    "    client.get_collection(\"my_collection\").get()\n",
    "except Exception as e:\n",
    "    print(e)"
   ]
  },
  {
   "cell_type": "code",
   "execution_count": 46,
   "metadata": {},
   "outputs": [
    {
     "name": "stderr",
     "output_type": "stream",
     "text": [
      "Insert of existing embedding ID: 0\n",
      "Insert of existing embedding ID: 1\n",
      "Insert of existing embedding ID: 2\n",
      "Insert of existing embedding ID: 3\n",
      "Insert of existing embedding ID: 4\n",
      "Insert of existing embedding ID: 5\n",
      "Insert of existing embedding ID: 6\n",
      "Insert of existing embedding ID: 7\n",
      "Insert of existing embedding ID: 8\n",
      "Insert of existing embedding ID: 9\n",
      "Insert of existing embedding ID: 10\n",
      "Insert of existing embedding ID: 11\n",
      "Insert of existing embedding ID: 12\n",
      "Insert of existing embedding ID: 13\n",
      "Insert of existing embedding ID: 14\n",
      "Insert of existing embedding ID: 15\n",
      "Insert of existing embedding ID: 16\n",
      "Insert of existing embedding ID: 17\n",
      "Insert of existing embedding ID: 18\n",
      "Insert of existing embedding ID: 19\n",
      "Add of existing embedding ID: 0\n",
      "Add of existing embedding ID: 1\n",
      "Add of existing embedding ID: 2\n",
      "Add of existing embedding ID: 3\n",
      "Add of existing embedding ID: 4\n",
      "Add of existing embedding ID: 5\n",
      "Add of existing embedding ID: 6\n",
      "Add of existing embedding ID: 7\n",
      "Add of existing embedding ID: 8\n",
      "Add of existing embedding ID: 9\n",
      "Add of existing embedding ID: 10\n",
      "Add of existing embedding ID: 11\n",
      "Add of existing embedding ID: 12\n",
      "Add of existing embedding ID: 13\n",
      "Add of existing embedding ID: 14\n",
      "Add of existing embedding ID: 15\n",
      "Add of existing embedding ID: 16\n",
      "Add of existing embedding ID: 17\n",
      "Add of existing embedding ID: 18\n",
      "Add of existing embedding ID: 19\n"
     ]
    }
   ],
   "source": [
    "try : \n",
    "  collection.add(\n",
    "      documents=document_source,\n",
    "      embeddings=embeddings_source.tolist(), \n",
    "      ids=[str(i) for i in range(len(document_source))]\n",
    "  )\n",
    "except Exception as e:\n",
    "  print(e)"
   ]
  },
  {
   "cell_type": "code",
   "execution_count": 56,
   "metadata": {},
   "outputs": [
    {
     "name": "stdout",
     "output_type": "stream",
     "text": [
      "---- Documents différents ----\n",
      "\n",
      "Document testé : Qu’est-ce qu’une base de données ? Une base de données est un système organisé pour stocker, gérer et récupérer des informations, souvent utilisées dans le développement web pour sauvegarder des utilisateurs ou des contenus.\n",
      "Document trouvé : [['Qu’est-ce qu’un CMS ? Un CMS (Content Management System) est un logiciel comme WordPress qui permet de créer et gérer facilement des sites web sans coder.']]\n",
      "Distance : 16.870023727416992\n",
      "\n",
      "\n",
      "Document testé :  Qu’est-ce que Node.js ? Node.js est un environnement d’exécution JavaScript côté serveur qui permet de construire des applications rapides et évolutives.\n",
      "Document trouvé : [['Qu’est-ce qu’un fichier package.json ? C’est un fichier utilisé dans les projets Node.js pour gérer les dépendances, scripts et métadonnées du projet.']]\n",
      "Distance : 12.208694458007812\n",
      "\n",
      "\n",
      "Document testé :  À quoi servent les frameworks comme React ou Angular ? Ces frameworks facilitent le développement d’interfaces utilisateur interactives et dynamiques en offrant des outils pour structurer le code et gérer l’état.\n",
      "Document trouvé : [['Qu’est-ce qu’un framework JavaScript ? Un framework JavaScript, comme React, Vue ou Angular, facilite le développement d’applications web dynamiques en structurant le code.']]\n",
      "Distance : 8.09282398223877\n",
      "\n",
      "\n",
      "Document testé :  Qu’est-ce qu’un fichier .env dans un projet web ? Un fichier .env est utilisé pour stocker des variables d’environnement comme des clés API ou des paramètres de configuration, évitant leur inclusion dans le code source.\n",
      "Document trouvé : [['Qu’est-ce qu’un fichier package.json ? C’est un fichier utilisé dans les projets Node.js pour gérer les dépendances, scripts et métadonnées du projet.']]\n",
      "Distance : 11.43015193939209\n",
      "\n",
      "\n",
      "Document testé :  Qu’est-ce que le versionnement de code ? Le versionnement de code est une pratique qui permet de suivre les modifications apportées au code source grâce à des outils comme Git, facilitant la collaboration et la gestion des versions.\n",
      "Document trouvé : [['Qu’est-ce qu’un fichier package.json ? C’est un fichier utilisé dans les projets Node.js pour gérer les dépendances, scripts et métadonnées du projet.']]\n",
      "Distance : 14.461695671081543\n",
      "\n",
      "\n",
      "Valeur moyenne des distances : 12.6127\n",
      "Valeur minimale des distances : 8.0928\n",
      "Valeur maximale des distances : 16.8700\n",
      "\n",
      "---- Documents similaires ----\n",
      "\n",
      "Document testé : À quoi sert le HTML dans une page web ? Le HTML est utilisé pour structurer et organiser le contenu d’une page web, en définissant les titres, paragraphes, images, etc.\n",
      "Document trouvé : [['À quoi sert le balisage <meta> en HTML ? Les balises <meta> fournissent des informations sur la page (métadonnées), comme la description, les mots-clés ou le charset.']]\n",
      "Distance : 5.315989971160889\n",
      "\n",
      "\n",
      "Document testé : Quel est le rôle du CSS dans le développement web ? Le CSS est essentiel pour donner une apparence visuelle aux pages web, comme les couleurs, les polices, et les dispositions des éléments.\n",
      "Document trouvé : [['À quoi sert le CSS ? Le CSS (Cascading Style Sheets) est utilisé pour styliser et mettre en forme les pages web, comme les couleurs, les polices, et les mises en page.']]\n",
      "Distance : 4.113922119140625\n",
      "\n",
      "\n",
      "Document testé : Quelle est la différence entre une balise <div> et une balise <span> ? Une balise <div> sert à regrouper des éléments sur plusieurs lignes (conteneur en bloc), alors qu’une balise <span> est utilisée pour styliser une portion de texte dans une même ligne.\n",
      "Document trouvé : [['Quelle est la différence entre une balise <div> et une balise <span> ? <div> est un conteneur en bloc utilisé pour structurer le contenu, tandis que <span> est un conteneur en ligne utilisé pour styliser du texte ou des éléments spécifiques.']]\n",
      "Distance : 2.801062822341919\n",
      "\n",
      "\n",
      "Document testé : Que signifie le DOM pour un développeur web ?  Le DOM est une structure arborescente qui permet de représenter et manipuler les éléments HTML d’une page via des scripts comme JavaScript.\n",
      "Document trouvé : [[' Qu’est-ce que le DOM en JavaScript ? Le DOM (Document Object Model) est une représentation en arbre des éléments HTML, permettant de manipuler et modifier la structure d’une page via JavaScript.']]\n",
      "Distance : 4.667910099029541\n",
      "\n",
      "\n",
      "Document testé : Quelle est la différence principale entre GET et POST dans les requêtes HTTP ? GET récupère des données du serveur, souvent visibles dans l’URL, tandis que POST envoie des données, généralement dans le corps de la requête.\n",
      "Document trouvé : [['Quelle est la différence entre une requête GET et POST ? GET est utilisé pour récupérer des données, tandis que POST est utilisé pour envoyer des données à un serveur.']]\n",
      "Distance : 3.1182544231414795\n",
      "\n",
      "\n",
      "Valeur moyenne des distances : 4.0034\n",
      "Valeur minimale des distances : 2.8011\n",
      "Valeur maximale des distances : 5.3160\n",
      "\n"
     ]
    }
   ],
   "source": [
    "def evaluate_documents(documents_to_test, collection, model, description):\n",
    "    print(f\"---- {description} ----\")\n",
    "    distances = []\n",
    "\n",
    "    for doc in documents_to_test:\n",
    "        # Générer l'embedding du document à tester\n",
    "        embedding = model.encode([doc])\n",
    "\n",
    "        # Requête à la collection\n",
    "        results = collection.query(\n",
    "            query_embeddings=embedding.tolist(),\n",
    "            n_results=1\n",
    "        )\n",
    "        \n",
    "        print(f\"\\nDocument testé : {doc}\")\n",
    "        print(f\"Document trouvé : {results['documents']}\")\n",
    "        print(f\"Distance : {results['distances'][0][0]}\\n\")\n",
    "\n",
    "        distances.append(results['distances'][0][0])\n",
    "\n",
    "    # Résumé des distances\n",
    "    print(f\"\\nValeur moyenne des distances : {sum(distances)/len(distances):.4f}\")\n",
    "    print(f\"Valeur minimale des distances : {min(distances):.4f}\")\n",
    "    print(f\"Valeur maximale des distances : {max(distances):.4f}\\n\")\n",
    "\n",
    "    return distances\n",
    "distance_different = evaluate_documents(document_different, collection, model, \"Documents différents\")\n",
    "distance_similaire = evaluate_documents(document_similaire, collection, model, \"Documents similaires\")\n"
   ]
  },
  {
   "cell_type": "code",
   "execution_count": 69,
   "metadata": {},
   "outputs": [
    {
     "name": "stdout",
     "output_type": "stream",
     "text": [
      "['#a1c9f4', '#8de5a1', '#ff9f9b', '#d0bbff', '#fffea3', '#b9f2f0']\n"
     ]
    },
    {
     "data": {
      "text/plain": [
       "<matplotlib.legend.Legend at 0x175de91c0>"
      ]
     },
     "execution_count": 69,
     "metadata": {},
     "output_type": "execute_result"
    },
    {
     "data": {
      "image/png": "[encoded data removed]",
      "text/plain": [
       "<Figure size 640x480 with 1 Axes>"
      ]
     },
     "metadata": {},
     "output_type": "display_data"
    }
   ],
   "source": [
    "# graphique des distances pour les documents différents comparés aux documents similaires (lineplot) avec en Y le cosine similarity et en X les documents (regplot)\n",
    "print(sns.color_palette(\"pastel6\").as_hex())\n",
    "sns.regplot(x=[i for i in range(len(document_different))], y=distance_different, label=\"Documents différents\")\n",
    "sns.regplot(x=[i for i in range(len(document_similaire))], y=distance_similaire, label=\"Documents similaires\")\n",
    "# sns.lineplot(x=[i for i in range(len(document_different))], y=distance_different, color='#b9f2f0')\n",
    "# sns.lineplot(x=[i for i in range(len(document_similaire))], y=distance_similaire , color='#f2b9f2')\n",
    "plt.legend()"
   ]
  }
 ],
 "metadata": {
  "kernelspec": {
   "display_name": ".venv",
   "language": "python",
   "name": "python3"
  },
  "language_info": {
   "codemirror_mode": {
    "name": "ipython",
    "version": 3
   },
   "file_extension": ".py",
   "mimetype": "text/x-python",
   "name": "python",
   "nbconvert_exporter": "python",
   "pygments_lexer": "ipython3",
   "version": "3.9.7"
  }
 },
 "nbformat": 4,
 "nbformat_minor": 2
}
